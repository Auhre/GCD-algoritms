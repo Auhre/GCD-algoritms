{
  "nbformat": 4,
  "nbformat_minor": 0,
  "metadata": {
    "colab": {
      "name": "CI_and_Euclid_GCD",
      "provenance": []
    },
    "kernelspec": {
      "name": "python3",
      "display_name": "Python 3"
    },
    "language_info": {
      "name": "python"
    }
  },
  "cells": [
    {
      "cell_type": "code",
      "source": [
        "import time"
      ],
      "metadata": {
        "id": "cmYMcQYqr325"
      },
      "execution_count": 1,
      "outputs": []
    },
    {
      "cell_type": "code",
      "source": [
        "def max(a, b):\n",
        "    if a >= b:\n",
        "      return a\n",
        "    else:\n",
        "      return b   "
      ],
      "metadata": {
        "id": "mqUFq245r4dT"
      },
      "execution_count": 2,
      "outputs": []
    },
    {
      "cell_type": "code",
      "source": [
        "def min(a, b):\n",
        "    if a <= b:\n",
        "      return a\n",
        "    else:\n",
        "      return b  "
      ],
      "metadata": {
        "id": "G4jmz3kUr7Hv"
      },
      "execution_count": 3,
      "outputs": []
    },
    {
      "cell_type": "code",
      "source": [
        "def CI_GCD(num1, num2):\n",
        "  start_time = time.time()\n",
        "  T = min(num1, num2)\n",
        "  gcd_found = False\n",
        "  while(gcd_found != True):\n",
        "    remainder_1 = num1%T\n",
        "    remainder_2 = num2%T\n",
        "    if(remainder_1 == 0 and remainder_2 == 0):\n",
        "      gcd_found = True\n",
        "    else:\n",
        "      T = T-1\n",
        "  print(\"Took %s seconds on CI Algorithm\" % (time.time() - start_time))\n",
        "  return print(\"GCD(\" + str(num1) + \",\" + str(num2) +\") is \" + str(T))"
      ],
      "metadata": {
        "id": "wAXKQ3dYr8e8"
      },
      "execution_count": 4,
      "outputs": []
    },
    {
      "cell_type": "code",
      "source": [
        "def Euclid_GCD(num1, num2):\n",
        "    start_time = time.time()\n",
        "    dividend = max(num1,num2)\n",
        "    divisor = min(num1,num2)\n",
        "    gcd_found = False\n",
        "    i = 1\n",
        "    while(gcd_found != True):\n",
        "      remainder = dividend%divisor\n",
        "      if(remainder == 0):\n",
        "        gcd_found = True\n",
        "        gcd = divisor\n",
        "      else:\n",
        "        dividend = divisor\n",
        "        divisor = remainder\n",
        "        i = i + 1\n",
        "    print(\"Took %s seconds on Euclid Algorithm\" % (time.time() - start_time))\n",
        "    return print(\"GCD(\" + str(num1) + \",\" + str(num2) +\") is \" + str(gcd))"
      ],
      "metadata": {
        "id": "6GbBEMVZr-Jv"
      },
      "execution_count": 5,
      "outputs": []
    },
    {
      "cell_type": "code",
      "source": [
        "CI_GCD(31415,14142)"
      ],
      "metadata": {
        "colab": {
          "base_uri": "https://localhost:8080/"
        },
        "id": "JekN9x_ssAZg",
        "outputId": "b9f566ae-1fc9-4983-c5eb-98182be211e9"
      },
      "execution_count": 6,
      "outputs": [
        {
          "output_type": "stream",
          "name": "stdout",
          "text": [
            "Took 0.004452228546142578 seconds on CI Algorithm\n",
            "GCD(31415,14142) is 1\n"
          ]
        }
      ]
    },
    {
      "cell_type": "code",
      "source": [
        "Euclid_GCD(31415,14142)"
      ],
      "metadata": {
        "colab": {
          "base_uri": "https://localhost:8080/"
        },
        "id": "pEW6im15sigs",
        "outputId": "b7356c05-e5cc-4eee-d3cc-15ae10114b40"
      },
      "execution_count": 7,
      "outputs": [
        {
          "output_type": "stream",
          "name": "stdout",
          "text": [
            "Took 8.821487426757812e-06 seconds on Euclid Algorithm\n",
            "GCD(31415,14142) is 1\n"
          ]
        }
      ]
    },
    {
      "cell_type": "code",
      "source": [
        "CI_GCD(116,12)"
      ],
      "metadata": {
        "colab": {
          "base_uri": "https://localhost:8080/"
        },
        "id": "Nf--QUuusLQi",
        "outputId": "1626d8f2-74cf-4b55-8474-3b2b07958b77"
      },
      "execution_count": 8,
      "outputs": [
        {
          "output_type": "stream",
          "name": "stdout",
          "text": [
            "Took 6.4373016357421875e-06 seconds on CI Algorithm\n",
            "GCD(116,12) is 4\n"
          ]
        }
      ]
    },
    {
      "cell_type": "code",
      "source": [
        "Euclid_GCD(116,12)"
      ],
      "metadata": {
        "colab": {
          "base_uri": "https://localhost:8080/"
        },
        "id": "5_YoFQ6wslR5",
        "outputId": "d9507889-d742-41a0-f477-a224dbf9b30b"
      },
      "execution_count": 9,
      "outputs": [
        {
          "output_type": "stream",
          "name": "stdout",
          "text": [
            "Took 5.9604644775390625e-06 seconds on Euclid Algorithm\n",
            "GCD(116,12) is 4\n"
          ]
        }
      ]
    }
  ]
}